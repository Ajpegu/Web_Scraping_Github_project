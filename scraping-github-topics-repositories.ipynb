{
 "cells": [
  {
   "cell_type": "markdown",
   "id": "d19d454a",
   "metadata": {},
   "source": [
    "# Scraping Top Repositories for Github Topics"
   ]
  },
  {
   "cell_type": "markdown",
   "id": "6dd22441",
   "metadata": {},
   "source": [
    "### Todo:\n",
    "\n",
    "- Introduction about web scraping\n",
    "- Introduction about Github and the problem statement\n",
    "- Mention the tools you're using"
   ]
  },
  {
   "cell_type": "markdown",
   "id": "0f28e4a9",
   "metadata": {},
   "source": [
    "#### Web Srapping : \n",
    "\n",
    "Web scraping is the process of automatically extracting data from websites. \n",
    "It involves using software tools to extract the desired data from the HTML code of a webpage and save it in a structured format, such as a spreadsheet or a database. \n",
    "Web scraping can be useful for a variety of purposes, such as market research, data analysis, and price monitoring. "
   ]
  },
  {
   "cell_type": "markdown",
   "id": "2cb9c8d4",
   "metadata": {},
   "source": [
    "#### Github : \n",
    "\n",
    "GitHub is a web-based platform for version control and collaboration that is widely used by developers and software teams. It provides a range of features, such as source code management, issue tracking, project management, and collaboration tools, that help teams work together more effectively on software development projects. GitHub allows developers to host and review code, manage and track changes to code, collaborate with others on projects, and distribute their code to other users. It also provides a social networking aspect, allowing developers to follow other users, comment on code, and contribute to open-source projects"
   ]
  },
  {
   "cell_type": "markdown",
   "id": "c01f4b76",
   "metadata": {},
   "source": [
    "#### Tools Used :\n",
    "\n",
    "- Python\n",
    "- Requests\n",
    "-Beautiful Soup\n",
    "-Pandas"
   ]
  },
  {
   "cell_type": "markdown",
   "id": "bcd650d8",
   "metadata": {},
   "source": [
    "### Here are the steps we'll follow:\n",
    "\n",
    "- We're going to scrape https://github.com/topics\n",
    "- We'll get a list of topics. For each topic, we'll get topic title, topic page URL and topic description\n",
    "- For each topic, we'll get the top 25 repositories in the topic from the topic page\n",
    "- For each repository, we'll grab the repo name, username, stars and repo URL\n",
    "- For each topic we'll create a CSV file in the following format:\n",
    "\n",
    "\n",
    "   Repo Name,Username,Stars,Repo URL \\-\n",
    "   three.js,mrdoob,69700,https://github.com/mrdoob/three.js\n",
    "   libgdx,libgdx,18300,https://github.com/libgdx/libgdx\n",
    "\n",
    "\n"
   ]
  },
  {
   "cell_type": "markdown",
   "id": "821f4aa6",
   "metadata": {},
   "source": [
    "## Step1: Use the requests library to download web pages"
   ]
  },
  {
   "cell_type": "code",
   "execution_count": 1,
   "id": "2ac5afc8",
   "metadata": {},
   "outputs": [],
   "source": [
    "# !pip install requests --quiet"
   ]
  },
  {
   "cell_type": "code",
   "execution_count": 2,
   "id": "0771d57d",
   "metadata": {},
   "outputs": [],
   "source": [
    "import requests"
   ]
  },
  {
   "cell_type": "code",
   "execution_count": 3,
   "id": "41844d46",
   "metadata": {},
   "outputs": [],
   "source": [
    "topics_url = 'https://github.com/topics'"
   ]
  },
  {
   "cell_type": "code",
   "execution_count": 4,
   "id": "0edf6675",
   "metadata": {},
   "outputs": [],
   "source": [
    "response = requests.get(topics_url)"
   ]
  },
  {
   "cell_type": "code",
   "execution_count": 5,
   "id": "c7ef0ae7",
   "metadata": {},
   "outputs": [
    {
     "data": {
      "text/plain": [
       "200"
      ]
     },
     "execution_count": 5,
     "metadata": {},
     "output_type": "execute_result"
    }
   ],
   "source": [
    "response.status_code"
   ]
  },
  {
   "cell_type": "code",
   "execution_count": 6,
   "id": "8c34b8c5",
   "metadata": {},
   "outputs": [
    {
     "data": {
      "text/plain": [
       "152549"
      ]
     },
     "execution_count": 6,
     "metadata": {},
     "output_type": "execute_result"
    }
   ],
   "source": [
    "#response.text ##printing out the web page\n",
    "len(response.text)"
   ]
  },
  {
   "cell_type": "code",
   "execution_count": 7,
   "id": "e7e87b34",
   "metadata": {},
   "outputs": [
    {
     "data": {
      "text/plain": [
       "'\\n\\n<!DOCTYPE html>\\n<html lang=\"en\" data-color-mode=\"auto\" data-light-theme=\"light\" data-dark-theme=\"dark\" data-a11y-animated-images=\"system\">\\n  <head>\\n    <meta charset=\"utf-8\">\\n  <link rel=\"dns-prefetch\" href=\"https://github.githubassets.com\">\\n  <link rel=\"dns-prefetch\" href=\"https://avatars.githubusercontent.com\">\\n  <link rel=\"dns-prefetch\" href=\"https://github-cloud.s3.amazonaws.com\">\\n  <link rel=\"dns-prefetch\" href=\"https://user-images.githubusercontent.com/\">\\n  <link rel=\"preconnect\" href=\"https://github.githubassets.com\" crossorigin>\\n  <link rel=\"preconnect\" href=\"https://avatars.githubusercontent.com\">\\n\\n  <link crossorigin=\"anonymous\" media=\"all\" rel=\"stylesheet\" href=\"https://github.githubassets.com/assets/light-719f1193e0c0.css\" /><link crossorigin=\"anonymous\" media=\"all\" rel=\"stylesheet\" href=\"https://github.githubassets.com/assets/dark-0c343b529849.css\" /><link data-color-theme=\"dark_dimmed\" crossorigin=\"anonymous\" media=\"all\" rel=\"stylesheet\" data-href=\"https://github.github'"
      ]
     },
     "execution_count": 7,
     "metadata": {},
     "output_type": "execute_result"
    }
   ],
   "source": [
    "page_contents = response.text\n",
    "page_contents[:1000]"
   ]
  },
  {
   "cell_type": "markdown",
   "id": "f898ed11",
   "metadata": {},
   "source": [
    "## Use Beautiful Soup to parse and extract information"
   ]
  },
  {
   "cell_type": "code",
   "execution_count": 8,
   "id": "ad5e6635",
   "metadata": {},
   "outputs": [],
   "source": [
    "# !pip install beautifulsoup4 --quiet"
   ]
  },
  {
   "cell_type": "code",
   "execution_count": 9,
   "id": "0303e841",
   "metadata": {},
   "outputs": [],
   "source": [
    "from bs4 import BeautifulSoup\n",
    "doc = BeautifulSoup(page_contents,'html.parser')"
   ]
  },
  {
   "cell_type": "code",
   "execution_count": 11,
   "id": "2b23a19e",
   "metadata": {},
   "outputs": [
    {
     "data": {
      "text/plain": [
       "30"
      ]
     },
     "execution_count": 11,
     "metadata": {},
     "output_type": "execute_result"
    }
   ],
   "source": [
    "selection_class = 'f3 lh-condensed mb-0 mt-1 Link--primary'\n",
    "topic_title_tags = doc.find_all('p',{'class': selection_class})\n",
    "len(topic_title_tags)"
   ]
  },
  {
   "cell_type": "code",
   "execution_count": 12,
   "id": "f29dac21",
   "metadata": {},
   "outputs": [
    {
     "data": {
      "text/plain": [
       "[<p class=\"f3 lh-condensed mb-0 mt-1 Link--primary\">3D</p>,\n",
       " <p class=\"f3 lh-condensed mb-0 mt-1 Link--primary\">Ajax</p>,\n",
       " <p class=\"f3 lh-condensed mb-0 mt-1 Link--primary\">Algorithm</p>,\n",
       " <p class=\"f3 lh-condensed mb-0 mt-1 Link--primary\">Amp</p>,\n",
       " <p class=\"f3 lh-condensed mb-0 mt-1 Link--primary\">Android</p>]"
      ]
     },
     "execution_count": 12,
     "metadata": {},
     "output_type": "execute_result"
    }
   ],
   "source": [
    "topic_title_tags[:5]"
   ]
  },
  {
   "cell_type": "code",
   "execution_count": 13,
   "id": "6509a846",
   "metadata": {},
   "outputs": [
    {
     "data": {
      "text/plain": [
       "[<p class=\"f5 color-fg-muted mb-0 mt-1\">\n",
       "           3D refers to the use of three-dimensional graphics, modeling, and animation in various industries.\n",
       "         </p>,\n",
       " <p class=\"f5 color-fg-muted mb-0 mt-1\">\n",
       "           Ajax is a technique for creating interactive web applications.\n",
       "         </p>,\n",
       " <p class=\"f5 color-fg-muted mb-0 mt-1\">\n",
       "           Algorithms are self-contained sequences that carry out a variety of tasks.\n",
       "         </p>,\n",
       " <p class=\"f5 color-fg-muted mb-0 mt-1\">\n",
       "           Amp is a non-blocking concurrency library for PHP.\n",
       "         </p>,\n",
       " <p class=\"f5 color-fg-muted mb-0 mt-1\">\n",
       "           Android is an operating system built by Google designed for mobile devices.\n",
       "         </p>]"
      ]
     },
     "execution_count": 13,
     "metadata": {},
     "output_type": "execute_result"
    }
   ],
   "source": [
    "desc_selector = 'f5 color-fg-muted mb-0 mt-1'\n",
    "topic_desc_tag = doc.find_all('p',{'class':desc_selector})\n",
    "topic_desc_tag[:5]"
   ]
  },
  {
   "cell_type": "code",
   "execution_count": 14,
   "id": "198224e7",
   "metadata": {},
   "outputs": [
    {
     "data": {
      "text/plain": [
       "<a class=\"no-underline flex-1 d-flex flex-column\" href=\"/topics/3d\">\n",
       "<p class=\"f3 lh-condensed mb-0 mt-1 Link--primary\">3D</p>\n",
       "<p class=\"f5 color-fg-muted mb-0 mt-1\">\n",
       "          3D refers to the use of three-dimensional graphics, modeling, and animation in various industries.\n",
       "        </p>\n",
       "</a>"
      ]
     },
     "execution_count": 14,
     "metadata": {},
     "output_type": "execute_result"
    }
   ],
   "source": [
    "topic_title_tag0 = topic_title_tags[0]\n",
    "topic_title_tag = topic_title_tag0.parent\n",
    "topic_title_tag"
   ]
  },
  {
   "cell_type": "code",
   "execution_count": 15,
   "id": "15636661",
   "metadata": {},
   "outputs": [
    {
     "name": "stdout",
     "output_type": "stream",
     "text": [
      "https://github.com/topics/3d\n"
     ]
    }
   ],
   "source": [
    "topic0_url = \"https://github.com\" + topic_title_tag['href']\n",
    "print(topic0_url)"
   ]
  },
  {
   "cell_type": "code",
   "execution_count": 16,
   "id": "c6899cdd",
   "metadata": {},
   "outputs": [
    {
     "name": "stdout",
     "output_type": "stream",
     "text": [
      "['3D', 'Ajax', 'Algorithm', 'Amp', 'Android', 'Angular', 'Ansible', 'API', 'Arduino', 'ASP.NET', 'Atom', 'Awesome Lists', 'Amazon Web Services', 'Azure', 'Babel', 'Bash', 'Bitcoin', 'Bootstrap', 'Bot', 'C', 'Chrome', 'Chrome extension', 'Command line interface', 'Clojure', 'Code quality', 'Code review', 'Compiler', 'Continuous integration', 'COVID-19', 'C++']\n"
     ]
    }
   ],
   "source": [
    "topic_titles = []\n",
    "\n",
    "for tag in topic_title_tags:\n",
    "    topic_titles.append(tag.text)\n",
    "\n",
    "print(topic_titles)"
   ]
  },
  {
   "cell_type": "code",
   "execution_count": 17,
   "id": "83225b14",
   "metadata": {},
   "outputs": [
    {
     "data": {
      "text/plain": [
       "['3D refers to the use of three-dimensional graphics, modeling, and animation in various industries.',\n",
       " 'Ajax is a technique for creating interactive web applications.',\n",
       " 'Algorithms are self-contained sequences that carry out a variety of tasks.',\n",
       " 'Amp is a non-blocking concurrency library for PHP.',\n",
       " 'Android is an operating system built by Google designed for mobile devices.']"
      ]
     },
     "execution_count": 17,
     "metadata": {},
     "output_type": "execute_result"
    }
   ],
   "source": [
    "topic_desc = []\n",
    "for tag in topic_desc_tag:\n",
    "    topic_desc.append(tag.text.strip())\n",
    "\n",
    "topic_desc[:5]"
   ]
  },
  {
   "cell_type": "code",
   "execution_count": 18,
   "id": "4cfde873",
   "metadata": {},
   "outputs": [
    {
     "data": {
      "text/plain": [
       "30"
      ]
     },
     "execution_count": 18,
     "metadata": {},
     "output_type": "execute_result"
    }
   ],
   "source": [
    "topic_link_tags = doc.find_all('a',{'class': 'no-underline flex-1 d-flex flex-column'})\n",
    "len(topic_link_tags)"
   ]
  },
  {
   "cell_type": "code",
   "execution_count": 19,
   "id": "469064e6",
   "metadata": {},
   "outputs": [
    {
     "data": {
      "text/plain": [
       "['https://github.com/topics/3d',\n",
       " 'https://github.com/topics/ajax',\n",
       " 'https://github.com/topics/algorithm',\n",
       " 'https://github.com/topics/amphp',\n",
       " 'https://github.com/topics/android',\n",
       " 'https://github.com/topics/angular',\n",
       " 'https://github.com/topics/ansible',\n",
       " 'https://github.com/topics/api',\n",
       " 'https://github.com/topics/arduino',\n",
       " 'https://github.com/topics/aspnet',\n",
       " 'https://github.com/topics/atom',\n",
       " 'https://github.com/topics/awesome',\n",
       " 'https://github.com/topics/aws',\n",
       " 'https://github.com/topics/azure',\n",
       " 'https://github.com/topics/babel',\n",
       " 'https://github.com/topics/bash',\n",
       " 'https://github.com/topics/bitcoin',\n",
       " 'https://github.com/topics/bootstrap',\n",
       " 'https://github.com/topics/bot',\n",
       " 'https://github.com/topics/c',\n",
       " 'https://github.com/topics/chrome',\n",
       " 'https://github.com/topics/chrome-extension',\n",
       " 'https://github.com/topics/cli',\n",
       " 'https://github.com/topics/clojure',\n",
       " 'https://github.com/topics/code-quality',\n",
       " 'https://github.com/topics/code-review',\n",
       " 'https://github.com/topics/compiler',\n",
       " 'https://github.com/topics/continuous-integration',\n",
       " 'https://github.com/topics/covid-19',\n",
       " 'https://github.com/topics/cpp']"
      ]
     },
     "execution_count": 19,
     "metadata": {},
     "output_type": "execute_result"
    }
   ],
   "source": [
    "topic_urls = []\n",
    "base_url = 'https://github.com'\n",
    "\n",
    "for tag in topic_link_tags:\n",
    "    topic_urls.append(base_url + tag['href'])\n",
    "\n",
    "topic_urls"
   ]
  },
  {
   "cell_type": "markdown",
   "id": "8a6f5ca6",
   "metadata": {},
   "source": [
    "## CREATING DATA FRAME WITH PANDAS"
   ]
  },
  {
   "cell_type": "code",
   "execution_count": 20,
   "id": "563d2ebd",
   "metadata": {},
   "outputs": [],
   "source": [
    "import pandas as pd"
   ]
  },
  {
   "cell_type": "code",
   "execution_count": 21,
   "id": "0650bf7b",
   "metadata": {},
   "outputs": [],
   "source": [
    "topic_dict = {\n",
    "    'title' : topic_titles,\n",
    "    'description' : topic_desc,\n",
    "    'url' : topic_urls\n",
    "}\n"
   ]
  },
  {
   "cell_type": "code",
   "execution_count": 22,
   "id": "61b0caf1",
   "metadata": {},
   "outputs": [
    {
     "data": {
      "text/html": [
       "<div>\n",
       "<style scoped>\n",
       "    .dataframe tbody tr th:only-of-type {\n",
       "        vertical-align: middle;\n",
       "    }\n",
       "\n",
       "    .dataframe tbody tr th {\n",
       "        vertical-align: top;\n",
       "    }\n",
       "\n",
       "    .dataframe thead th {\n",
       "        text-align: right;\n",
       "    }\n",
       "</style>\n",
       "<table border=\"1\" class=\"dataframe\">\n",
       "  <thead>\n",
       "    <tr style=\"text-align: right;\">\n",
       "      <th></th>\n",
       "      <th>title</th>\n",
       "      <th>description</th>\n",
       "      <th>url</th>\n",
       "    </tr>\n",
       "  </thead>\n",
       "  <tbody>\n",
       "    <tr>\n",
       "      <th>0</th>\n",
       "      <td>3D</td>\n",
       "      <td>3D refers to the use of three-dimensional grap...</td>\n",
       "      <td>https://github.com/topics/3d</td>\n",
       "    </tr>\n",
       "    <tr>\n",
       "      <th>1</th>\n",
       "      <td>Ajax</td>\n",
       "      <td>Ajax is a technique for creating interactive w...</td>\n",
       "      <td>https://github.com/topics/ajax</td>\n",
       "    </tr>\n",
       "    <tr>\n",
       "      <th>2</th>\n",
       "      <td>Algorithm</td>\n",
       "      <td>Algorithms are self-contained sequences that c...</td>\n",
       "      <td>https://github.com/topics/algorithm</td>\n",
       "    </tr>\n",
       "    <tr>\n",
       "      <th>3</th>\n",
       "      <td>Amp</td>\n",
       "      <td>Amp is a non-blocking concurrency library for ...</td>\n",
       "      <td>https://github.com/topics/amphp</td>\n",
       "    </tr>\n",
       "    <tr>\n",
       "      <th>4</th>\n",
       "      <td>Android</td>\n",
       "      <td>Android is an operating system built by Google...</td>\n",
       "      <td>https://github.com/topics/android</td>\n",
       "    </tr>\n",
       "  </tbody>\n",
       "</table>\n",
       "</div>"
      ],
      "text/plain": [
       "       title                                        description  \\\n",
       "0         3D  3D refers to the use of three-dimensional grap...   \n",
       "1       Ajax  Ajax is a technique for creating interactive w...   \n",
       "2  Algorithm  Algorithms are self-contained sequences that c...   \n",
       "3        Amp  Amp is a non-blocking concurrency library for ...   \n",
       "4    Android  Android is an operating system built by Google...   \n",
       "\n",
       "                                   url  \n",
       "0         https://github.com/topics/3d  \n",
       "1       https://github.com/topics/ajax  \n",
       "2  https://github.com/topics/algorithm  \n",
       "3      https://github.com/topics/amphp  \n",
       "4    https://github.com/topics/android  "
      ]
     },
     "execution_count": 22,
     "metadata": {},
     "output_type": "execute_result"
    }
   ],
   "source": [
    "topic_df = pd.DataFrame(topic_dict)\n",
    "topic_df.head(5)"
   ]
  },
  {
   "cell_type": "markdown",
   "id": "411f38ca",
   "metadata": {},
   "source": [
    "## Create CSV file(s) with the extracted information"
   ]
  },
  {
   "cell_type": "code",
   "execution_count": 24,
   "id": "8a18ec62",
   "metadata": {},
   "outputs": [],
   "source": [
    "topic_df.to_csv('topics.csv',index=None)"
   ]
  },
  {
   "cell_type": "markdown",
   "id": "0a285a54",
   "metadata": {},
   "source": [
    "## Getting information out of a topic page"
   ]
  },
  {
   "cell_type": "code",
   "execution_count": 25,
   "id": "cb3ec6be",
   "metadata": {},
   "outputs": [],
   "source": [
    "topic_page_url = topic_urls[0]"
   ]
  },
  {
   "cell_type": "code",
   "execution_count": 26,
   "id": "b7baddb1",
   "metadata": {},
   "outputs": [
    {
     "data": {
      "text/plain": [
       "'https://github.com/topics/3d'"
      ]
     },
     "execution_count": 26,
     "metadata": {},
     "output_type": "execute_result"
    }
   ],
   "source": [
    "topic_page_url"
   ]
  },
  {
   "cell_type": "code",
   "execution_count": 27,
   "id": "ee57de46",
   "metadata": {},
   "outputs": [],
   "source": [
    "response = requests.get(topic_page_url)"
   ]
  },
  {
   "cell_type": "code",
   "execution_count": 28,
   "id": "8ddfcb72",
   "metadata": {},
   "outputs": [
    {
     "data": {
      "text/plain": [
       "200"
      ]
     },
     "execution_count": 28,
     "metadata": {},
     "output_type": "execute_result"
    }
   ],
   "source": [
    "response.status_code"
   ]
  },
  {
   "cell_type": "code",
   "execution_count": 29,
   "id": "9a1dffa3",
   "metadata": {},
   "outputs": [
    {
     "data": {
      "text/plain": [
       "456030"
      ]
     },
     "execution_count": 29,
     "metadata": {},
     "output_type": "execute_result"
    }
   ],
   "source": [
    "len(response.text)"
   ]
  },
  {
   "cell_type": "code",
   "execution_count": 30,
   "id": "13cca25e",
   "metadata": {},
   "outputs": [],
   "source": [
    "topic_doc = BeautifulSoup(response.text,'html.parser')"
   ]
  },
  {
   "cell_type": "code",
   "execution_count": 31,
   "id": "ed296800",
   "metadata": {},
   "outputs": [],
   "source": [
    "h3_selection_class = 'f3 color-fg-muted text-normal lh-condensed'\n",
    "repo_tags = topic_doc.find_all('h3',{'class': h3_selection_class})"
   ]
  },
  {
   "cell_type": "code",
   "execution_count": 32,
   "id": "95be1d62",
   "metadata": {},
   "outputs": [
    {
     "data": {
      "text/plain": [
       "20"
      ]
     },
     "execution_count": 32,
     "metadata": {},
     "output_type": "execute_result"
    }
   ],
   "source": [
    "len(repo_tags)"
   ]
  },
  {
   "cell_type": "code",
   "execution_count": 34,
   "id": "7135102c",
   "metadata": {},
   "outputs": [],
   "source": [
    "a_tags = repo_tags[0].find_all('a')"
   ]
  },
  {
   "cell_type": "code",
   "execution_count": 37,
   "id": "e41bf063",
   "metadata": {},
   "outputs": [
    {
     "data": {
      "text/plain": [
       "'mrdoob'"
      ]
     },
     "execution_count": 37,
     "metadata": {},
     "output_type": "execute_result"
    }
   ],
   "source": [
    "a_tags[0].text.strip()"
   ]
  },
  {
   "cell_type": "code",
   "execution_count": 38,
   "id": "d73406db",
   "metadata": {},
   "outputs": [
    {
     "data": {
      "text/plain": [
       "'three.js'"
      ]
     },
     "execution_count": 38,
     "metadata": {},
     "output_type": "execute_result"
    }
   ],
   "source": [
    "a_tags[1].text.strip()"
   ]
  },
  {
   "cell_type": "code",
   "execution_count": 40,
   "id": "34b05aa4",
   "metadata": {},
   "outputs": [
    {
     "name": "stdout",
     "output_type": "stream",
     "text": [
      "https://github.com/mrdoob/three.js\n"
     ]
    }
   ],
   "source": [
    "base_url = 'https://github.com'\n",
    "repo_url = base_url + a_tags[1]['href']\n",
    "print(repo_url)\n"
   ]
  },
  {
   "cell_type": "code",
   "execution_count": 44,
   "id": "743e066d",
   "metadata": {},
   "outputs": [],
   "source": [
    "star_tags = topic_doc.find_all('span',{'class': 'Counter js-social-count'})"
   ]
  },
  {
   "cell_type": "code",
   "execution_count": 45,
   "id": "685fdb4b",
   "metadata": {},
   "outputs": [
    {
     "data": {
      "text/plain": [
       "20"
      ]
     },
     "execution_count": 45,
     "metadata": {},
     "output_type": "execute_result"
    }
   ],
   "source": [
    "len(star_tags)"
   ]
  },
  {
   "cell_type": "code",
   "execution_count": 47,
   "id": "7d705433",
   "metadata": {},
   "outputs": [
    {
     "data": {
      "text/plain": [
       "'89k'"
      ]
     },
     "execution_count": 47,
     "metadata": {},
     "output_type": "execute_result"
    }
   ],
   "source": [
    "star_tags[0].text.strip()"
   ]
  },
  {
   "cell_type": "code",
   "execution_count": 48,
   "id": "afdd1a32",
   "metadata": {},
   "outputs": [],
   "source": [
    "def parse_star_count(stars_str):\n",
    "    stars_str = stars_str.strip()\n",
    "    if stars_str[-1]=='k':\n",
    "        return int(float(stars_str[:-1])*1000)\n",
    "    return int(stars_str)"
   ]
  },
  {
   "cell_type": "code",
   "execution_count": 49,
   "id": "6bf97f0c",
   "metadata": {},
   "outputs": [
    {
     "data": {
      "text/plain": [
       "89000"
      ]
     },
     "execution_count": 49,
     "metadata": {},
     "output_type": "execute_result"
    }
   ],
   "source": [
    "parse_star_count(star_tags[0].text.strip())"
   ]
  },
  {
   "cell_type": "code",
   "execution_count": 52,
   "id": "6558cece",
   "metadata": {},
   "outputs": [],
   "source": [
    "def get_repo_info(h3_tag,star_tag):\n",
    "    # returns all the required info about a repository\n",
    "    a_tags = h3_tag.find_all('a')\n",
    "    username = a_tags[0].text.strip()\n",
    "    repo_name = a_tags[1].text.strip()\n",
    "    repo_url = base_url + a_tags[1]['href']\n",
    "    stars = parse_star_count(star_tag.text.strip())\n",
    "    return username,repo_name,stars,repo_url"
   ]
  },
  {
   "cell_type": "code",
   "execution_count": 53,
   "id": "30ab4b96",
   "metadata": {},
   "outputs": [
    {
     "data": {
      "text/plain": [
       "('mrdoob', 'three.js', 89000, 'https://github.com/mrdoob/three.js')"
      ]
     },
     "execution_count": 53,
     "metadata": {},
     "output_type": "execute_result"
    }
   ],
   "source": [
    "get_repo_info(repo_tags[0],star_tags[0])"
   ]
  },
  {
   "cell_type": "code",
   "execution_count": 56,
   "id": "c846a175",
   "metadata": {},
   "outputs": [],
   "source": [
    "topic_repos_dict = {\n",
    "    'username': [],\n",
    "    'repo_name': [],\n",
    "    'stars' : [],\n",
    "    'repo_url': []\n",
    "}\n",
    "for i in range(len(repo_tags)):\n",
    "    repo_info = get_repo_info(repo_tags[i],star_tags[i])\n",
    "    topic_repos_dict['username'].append(repo_info[0])\n",
    "    topic_repos_dict['repo_name'].append(repo_info[1])\n",
    "    topic_repos_dict['stars'].append(repo_info[2])\n",
    "    topic_repos_dict['repo_url'].append(repo_info[3])\n",
    "    "
   ]
  },
  {
   "cell_type": "code",
   "execution_count": 73,
   "id": "74607022",
   "metadata": {},
   "outputs": [],
   "source": [
    "\n",
    "def get_topic_page(topic_url):\n",
    "    #Download the page\n",
    "    response = requests.get(topic_url)\n",
    "    #check succesful response\n",
    "    if response.status_code != 200:\n",
    "        raise Exception('Failed to load page {}'.format(topic_url))\n",
    "    #Parse using beautiful Soup\n",
    "    topic_doc = BeautifulSoup(response.text,'html.parser')\n",
    "    return topic_doc\n",
    "\n",
    "\n",
    "def get_repo_info(h3_tag,star_tag):\n",
    "    # returns all the required info about a repository\n",
    "    a_tags = h3_tag.find_all('a')\n",
    "    username = a_tags[0].text.strip()\n",
    "    repo_name = a_tags[1].text.strip()\n",
    "    repo_url = base_url + a_tags[1]['href']\n",
    "    stars = parse_star_count(star_tag.text.strip())\n",
    "    return username,repo_name,stars,repo_url\n",
    "\n",
    "\n",
    "def get_topic_repos(topic_doc):\n",
    "    # Get the h1 tags containing repo title,repo URL and  username\n",
    "    h3_selection_class = 'f3 color-fg-muted text-normal lh-condensed'\n",
    "    repo_tags = topic_doc.find_all('h3',{'class': h3_selection_class})\n",
    "    \n",
    "    # Get star tags\n",
    "    star_tags = topic_doc.find_all('span',{'class': 'Counter js-social-count'})\n",
    "    \n",
    "    topic_repos_dict = {\n",
    "    'username': [],\n",
    "    'repo_name': [],\n",
    "    'stars' : [],\n",
    "    'repo_url': []\n",
    "    }\n",
    "    \n",
    "    #Get repo info\n",
    "    for i in range(len(repo_tags)):\n",
    "        repo_info = get_repo_info(repo_tags[i],star_tags[i])\n",
    "        topic_repos_dict['username'].append(repo_info[0])\n",
    "        topic_repos_dict['repo_name'].append(repo_info[1])\n",
    "        topic_repos_dict['stars'].append(repo_info[2])\n",
    "        topic_repos_dict['repo_url'].append(repo_info[3])\n",
    "    \n",
    "    return pd.DataFrame(topic_repos_dict)\n",
    "    \n",
    "    \n",
    "    \n",
    "\n"
   ]
  },
  {
   "cell_type": "code",
   "execution_count": 80,
   "id": "dbdd63dd",
   "metadata": {},
   "outputs": [],
   "source": [
    "get_topic_repos(get_topic_page(topic_urls[4])).to_csv('Android.csv',index=None)"
   ]
  }
 ],
 "metadata": {
  "kernelspec": {
   "display_name": "Python 3 (ipykernel)",
   "language": "python",
   "name": "python3"
  },
  "language_info": {
   "codemirror_mode": {
    "name": "ipython",
    "version": 3
   },
   "file_extension": ".py",
   "mimetype": "text/x-python",
   "name": "python",
   "nbconvert_exporter": "python",
   "pygments_lexer": "ipython3",
   "version": "3.9.12"
  }
 },
 "nbformat": 4,
 "nbformat_minor": 5
}
